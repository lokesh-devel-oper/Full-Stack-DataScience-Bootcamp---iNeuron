{
 "cells": [
  {
   "cell_type": "code",
   "execution_count": 1,
   "id": "ed728bee",
   "metadata": {},
   "outputs": [
    {
     "data": {
      "text/plain": [
       "6"
      ]
     },
     "execution_count": 1,
     "metadata": {},
     "output_type": "execute_result"
    }
   ],
   "source": [
    "# 1. write a function which will try to find out len of a string without using an inbuilt len function \n",
    "\n",
    "def len_of_str(string):\n",
    "    count = 0\n",
    "    for i in string:\n",
    "        count += 1\n",
    "    return count\n",
    "\n",
    "len_of_str('lokesh')"
   ]
  },
  {
   "cell_type": "code",
   "execution_count": 6,
   "id": "85495efd",
   "metadata": {},
   "outputs": [
    {
     "data": {
      "text/plain": [
       "'index of 23 is 0'"
      ]
     },
     "execution_count": 6,
     "metadata": {},
     "output_type": "execute_result"
    }
   ],
   "source": [
    "# 2. write a function which  will be able to print an index of list element without using an index function\n",
    "\n",
    "def index_of_list(List,element):\n",
    "    Index = {k:v for v,k in enumerate(List)}\n",
    "    return f\"index of {element} is {Index[element]}\"\n",
    "\n",
    "index_of_list([23,34,54,'lokesh',43.4,43.1,'sai'],23)"
   ]
  },
  {
   "cell_type": "code",
   "execution_count": null,
   "id": "e672de29",
   "metadata": {},
   "outputs": [],
   "source": [
    "3. write a function which will be able to print an ip address of your system"
   ]
  },
  {
   "cell_type": "code",
   "execution_count": null,
   "id": "84e56913",
   "metadata": {},
   "outputs": [],
   "source": [
    "4. write a function which will shutdown your system"
   ]
  },
  {
   "cell_type": "code",
   "execution_count": null,
   "id": "f3047b34",
   "metadata": {},
   "outputs": [],
   "source": [
    "5. write a function which will take input as a list with any kind of numeric value and give an out as a multiplication of \n",
    "all the numeric data l = [3.5, 6.56, 4,5,\"sudh\" , \"ineuron\" , 'fsda bootcamp 2.0']"
   ]
  },
  {
   "cell_type": "code",
   "execution_count": null,
   "id": "fac91961",
   "metadata": {},
   "outputs": [],
   "source": [
    "6. write a function which will be able to read all the mails "
   ]
  },
  {
   "cell_type": "code",
   "execution_count": null,
   "id": "074a4ae9",
   "metadata": {},
   "outputs": [],
   "source": [
    "7 . write a function which will be able to send a mail to anyone "
   ]
  },
  {
   "cell_type": "code",
   "execution_count": null,
   "id": "2aa5262d",
   "metadata": {},
   "outputs": [],
   "source": [
    "8. write a function which will be able to read a doc/word file from your system "
   ]
  },
  {
   "cell_type": "markdown",
   "id": "821f5f70",
   "metadata": {},
   "source": [
    "you are suppose to complete this by oct 30th before your \n",
    "live class and you have to send a solution at mail id - query@ineuron.ai\n",
    "submit your git link to mail "
   ]
  },
  {
   "cell_type": "code",
   "execution_count": null,
   "id": "89be9262",
   "metadata": {},
   "outputs": [],
   "source": []
  }
 ],
 "metadata": {
  "kernelspec": {
   "display_name": "Python 3 (ipykernel)",
   "language": "python",
   "name": "python3"
  },
  "language_info": {
   "codemirror_mode": {
    "name": "ipython",
    "version": 3
   },
   "file_extension": ".py",
   "mimetype": "text/x-python",
   "name": "python",
   "nbconvert_exporter": "python",
   "pygments_lexer": "ipython3",
   "version": "3.10.0"
  }
 },
 "nbformat": 4,
 "nbformat_minor": 5
}
