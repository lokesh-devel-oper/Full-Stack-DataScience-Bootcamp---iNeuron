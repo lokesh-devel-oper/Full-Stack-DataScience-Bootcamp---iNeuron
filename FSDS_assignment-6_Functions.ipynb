{
 "cells": [
  {
   "cell_type": "code",
   "execution_count": 1,
   "id": "ed728bee",
   "metadata": {},
   "outputs": [
    {
     "data": {
      "text/plain": [
       "6"
      ]
     },
     "execution_count": 1,
     "metadata": {},
     "output_type": "execute_result"
    }
   ],
   "source": [
    "# 1. write a function which will try to find out len of a string without using an inbuilt len function \n",
    "\n",
    "def len_of_str(string):\n",
    "    count = 0\n",
    "    for i in string:\n",
    "        count += 1\n",
    "    return count\n",
    "\n",
    "len_of_str('lokesh')"
   ]
  },
  {
   "cell_type": "code",
   "execution_count": 6,
   "id": "85495efd",
   "metadata": {},
   "outputs": [
    {
     "data": {
      "text/plain": [
       "'index of 23 is 0'"
      ]
     },
     "execution_count": 6,
     "metadata": {},
     "output_type": "execute_result"
    }
   ],
   "source": [
    "# 2. write a function which  will be able to print an index of list element without using an index function\n",
    "\n",
    "def index_of_list(List,element):\n",
    "    Index = {k:v for v,k in enumerate(List)}\n",
    "    return f\"index of {element} is {Index[element]}\"\n",
    "\n",
    "index_of_list([23,34,54,'lokesh',43.4,43.1,'sai'],23)"
   ]
  },
  {
   "cell_type": "code",
   "execution_count": 1,
   "id": "e672de29",
   "metadata": {},
   "outputs": [
    {
     "data": {
      "text/plain": [
       "'192.168.220.1'"
      ]
     },
     "execution_count": 1,
     "metadata": {},
     "output_type": "execute_result"
    }
   ],
   "source": [
    "# 3. write a function which will be able to print an ip address of your system\n",
    "\n",
    "import socket\n",
    "socket.gethostbyname(socket.gethostname())"
   ]
  },
  {
   "cell_type": "code",
   "execution_count": null,
   "id": "84e56913",
   "metadata": {},
   "outputs": [],
   "source": [
    "# 4. write a function which will shutdown your system\n",
    "\n",
    "import os\n",
    "os.system('shutdown -s')"
   ]
  },
  {
   "cell_type": "code",
   "execution_count": 2,
   "id": "f3047b34",
   "metadata": {},
   "outputs": [
    {
     "data": {
      "text/plain": [
       "459.19999999999993"
      ]
     },
     "execution_count": 2,
     "metadata": {},
     "output_type": "execute_result"
    }
   ],
   "source": [
    "# 5. write a function which will take input as a list with any kind of numeric value and give an out as a multiplication of \n",
    "# all the numeric data \n",
    "\n",
    "l = [3.5, 6.56, 4,5,\"sudh\" , \"ineuron\" , 'fsda bootcamp 2.0']\n",
    "\n",
    "def multiplication(List):\n",
    "    result = 1\n",
    "    for i in List:\n",
    "        if type(i) == int or type(i) == float:\n",
    "            result *= i\n",
    "    return result\n",
    "\n",
    "multiplication(l)"
   ]
  },
  {
   "cell_type": "code",
   "execution_count": null,
   "id": "fac91961",
   "metadata": {},
   "outputs": [],
   "source": [
    "# 6. write a function which will be able to read all the mails \n",
    "\n",
    "import imaplib\n",
    "import email\n",
    "\n",
    "def read_mail():\n",
    "    mail = imaplib.IMAP4_SSL('imap.gmail.com')\n",
    "    mail.login('lokesh@gmail.com','password')\n",
    "    mail.list()\n",
    "    mail.select('inbox')\n",
    "\n",
    "    result, data = mail.search(None, \"ALL\")\n",
    "\n",
    "    ids = data[0]\n",
    "\n",
    "    id_list = ids.split()\n",
    "\n",
    "    latest_email_id = id_list[-1]\n",
    "\n",
    "    result, data = mail.fetch(latest_email_id, \"(RFC822)\")\n",
    "\n",
    "    raw_email = data[0][1]\n",
    "\n",
    "    raw_email_string = raw_email.decode('utf-8')\n",
    "\n",
    "    email_message = email.message_from_string(raw_email_string)\n",
    "\n",
    "    for part in email_message.walk():\n",
    "        if part.get_content_type() == \"text/plain\":\n",
    "            body = part.get_payload(decode=True)\n",
    "            print(body)\n",
    "\n",
    "read_mail()"
   ]
  },
  {
   "cell_type": "code",
   "execution_count": null,
   "id": "074a4ae9",
   "metadata": {},
   "outputs": [],
   "source": [
    "# 7 . write a function which will be able to send a mail to anyone \n",
    "\n",
    "import smtplib\n",
    "from email.mime.text import MIMEText\n",
    "from email.mime.multipart import MIMEMultipart\n",
    "\n",
    "def send_mail():\n",
    "    sender_email_id = 'lokesh@gmail.com'\n",
    "    receiver_email_id = 'ganesh@gmail.com'\n",
    "    password = input(str(\"Please enter your password: \"))\n",
    "    subject = \"Regarding sending mail using python\"\n",
    "    msg = MIMEMultipart()\n",
    "    msg['From'] = sender_email_id\n",
    "    msg['To'] = receiver_email_id\n",
    "    msg['Subject'] = subject\n",
    "    body = \"Hello, this is a mail sent using python\"\n",
    "    msg.attach(MIMEText(body, 'plain'))\n",
    "    text = msg.as_string()\n",
    "    s = smtplib.SMTP('smtp.gmail.com', 587)\n",
    "    s.starttls()\n",
    "    s.login(sender_email_id, password)\n",
    "    s.sendmail(sender_email_id, receiver_email_id, text)\n",
    "    s.quit()\n",
    "\n",
    "send_mail()"
   ]
  },
  {
   "cell_type": "code",
   "execution_count": null,
   "id": "2aa5262d",
   "metadata": {},
   "outputs": [],
   "source": [
    "# 8. write a function which will be able to read a doc/word file from your system \n",
    "\n",
    "import docx\n",
    "\n",
    "def read_docx():\n",
    "    doc = docx.Document('C:\\\\Users\\\\lokesh\\\\Desktop\\\\test.docx')\n",
    "    fullText = []\n",
    "    for para in doc.paragraphs:\n",
    "        fullText.append(para.text)\n",
    "    return '\\n'.join(fullText)\n",
    "\n",
    "read_docx()"
   ]
  },
  {
   "cell_type": "markdown",
   "id": "821f5f70",
   "metadata": {},
   "source": [
    "you are suppose to complete this by oct 30th before your \n",
    "live class and you have to send a solution at mail id - query@ineuron.ai\n",
    "submit your git link to mail "
   ]
  },
  {
   "cell_type": "code",
   "execution_count": null,
   "id": "89be9262",
   "metadata": {},
   "outputs": [],
   "source": []
  }
 ],
 "metadata": {
  "kernelspec": {
   "display_name": "Python 3.7.11 ('base')",
   "language": "python",
   "name": "python3"
  },
  "language_info": {
   "codemirror_mode": {
    "name": "ipython",
    "version": 3
   },
   "file_extension": ".py",
   "mimetype": "text/x-python",
   "name": "python",
   "nbconvert_exporter": "python",
   "pygments_lexer": "ipython3",
   "version": "3.7.11"
  },
  "vscode": {
   "interpreter": {
    "hash": "137abbe3a1025327475505b0398c579d4ffc92f48265e7cd5cfe7a319d8aa47c"
   }
  }
 },
 "nbformat": 4,
 "nbformat_minor": 5
}
