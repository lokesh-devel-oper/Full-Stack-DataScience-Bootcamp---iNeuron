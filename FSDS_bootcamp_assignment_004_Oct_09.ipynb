{
 "cells": [
  {
   "cell_type": "markdown",
   "metadata": {
    "id": "dkGbTD94s6CD"
   },
   "source": [
    "# ASSIGNMENTS \n",
    "## Send it before 0000 hrs IST or 12 AM Wednesday\n",
    "\n",
    "## NOTE: Evaluation will be done before next class.\n",
    "\n",
    "## HOW TO SUBMIT: -\n",
    "Download this notebook, Solve it and upload in the google form given in the mail."
   ]
  },
  {
   "cell_type": "markdown",
   "metadata": {
    "id": "n3FuI-mutNl6"
   },
   "source": [
    "## control flow and conditional statements"
   ]
  },
  {
   "cell_type": "markdown",
   "metadata": {
    "id": "NCW2epdyuJ-a"
   },
   "source": [
    "Q1. Find the largest number from the given list, use for loop.\n",
    "\n",
    "```\n",
    "numbers = [12, 75, 150, 180, 145, 525, 50]\n",
    "```"
   ]
  },
  {
   "cell_type": "code",
   "execution_count": 1,
   "metadata": {},
   "outputs": [
    {
     "data": {
      "text/plain": [
       "525"
      ]
     },
     "execution_count": 1,
     "metadata": {},
     "output_type": "execute_result"
    }
   ],
   "source": [
    "# solution\n",
    "\n",
    "numbers = [12, 75, 150, 180, 145, 525, 50]\n",
    "\n",
    "max(numbers)"
   ]
  },
  {
   "cell_type": "markdown",
   "metadata": {
    "id": "Qsg0i1fTwEQj"
   },
   "source": [
    "Q2. Print all the even number between (1, 12)."
   ]
  },
  {
   "cell_type": "code",
   "execution_count": 2,
   "metadata": {},
   "outputs": [
    {
     "name": "stdout",
     "output_type": "stream",
     "text": [
      "2\n",
      "4\n",
      "6\n",
      "8\n",
      "10\n"
     ]
    }
   ],
   "source": [
    "# solution\n",
    "\n",
    "for i in range(1,12):\n",
    "    if i % 2 == 0:\n",
    "        print(i)"
   ]
  },
  {
   "cell_type": "markdown",
   "metadata": {
    "id": "WG2QcDDhwi4a"
   },
   "source": [
    "Q3. Calculate the sum of all numbers from 1 to a given number\n",
    "    \n",
    "    Expected Output:\n",
    "\n",
    "    Enter number 10\n",
    "    \n",
    "    Sum is:  55\n"
   ]
  },
  {
   "cell_type": "code",
   "execution_count": 3,
   "metadata": {},
   "outputs": [
    {
     "name": "stdout",
     "output_type": "stream",
     "text": [
      "Enter the range: 20\n",
      "210\n"
     ]
    }
   ],
   "source": [
    "#solution\n",
    "\n",
    "n = int(input(\"Enter the range: \"))\n",
    "total = sum(range(1, n + 1))\n",
    "\n",
    "print(total)"
   ]
  },
  {
   "cell_type": "markdown",
   "metadata": {
    "id": "mc7lLUm5f4Cq"
   },
   "source": [
    "Q4. Write a program to display only those numbers from a list that satisfy the following conditions\n",
    "\n",
    "- The number must be divisible by five\n",
    "\n",
    "- If the number is greater than 150, then skip it and move to the next number\n",
    "\n",
    "- If the number is greater than 500, then stop the loop"
   ]
  },
  {
   "cell_type": "code",
   "execution_count": 4,
   "metadata": {
    "id": "P3Ct2ocKf6Hy"
   },
   "outputs": [
    {
     "name": "stdout",
     "output_type": "stream",
     "text": [
      "12\n",
      "75\n",
      "150\n",
      "145\n",
      "50\n"
     ]
    }
   ],
   "source": [
    "# Given:\n",
    "\n",
    "numbers = [12, 75, 150, 180, 145, 525, 50]\n",
    "\n",
    "for i in numbers:\n",
    "    if i % 5 == 0:\n",
    "        if i > 150:\n",
    "            continue\n",
    "        elif i > 500:\n",
    "            break\n",
    "    print(i)"
   ]
  },
  {
   "cell_type": "markdown",
   "metadata": {
    "id": "rrxWvy7nMnAs"
   },
   "source": [
    "Q5. Print the given list in reverse order.\n",
    "\n",
    "```\n",
    "list1 = [10, 20, 30, 40, 50]\n",
    "```"
   ]
  },
  {
   "cell_type": "code",
   "execution_count": 5,
   "metadata": {
    "id": "z-GDgPn3Nr0y"
   },
   "outputs": [
    {
     "data": {
      "text/plain": [
       "[50, 40, 30, 20, 10]"
      ]
     },
     "execution_count": 5,
     "metadata": {},
     "output_type": "execute_result"
    }
   ],
   "source": [
    "# solution\n",
    "list1 = [10, 20, 30, 40, 50]\n",
    "\n",
    "list1[::-1]"
   ]
  },
  {
   "cell_type": "code",
   "execution_count": null,
   "metadata": {},
   "outputs": [],
   "source": []
  }
 ],
 "metadata": {
  "colab": {
   "collapsed_sections": [],
   "provenance": []
  },
  "kernelspec": {
   "display_name": "Python 3 (ipykernel)",
   "language": "python",
   "name": "python3"
  },
  "language_info": {
   "codemirror_mode": {
    "name": "ipython",
    "version": 3
   },
   "file_extension": ".py",
   "mimetype": "text/x-python",
   "name": "python",
   "nbconvert_exporter": "python",
   "pygments_lexer": "ipython3",
   "version": "3.10.0"
  }
 },
 "nbformat": 4,
 "nbformat_minor": 1
}
