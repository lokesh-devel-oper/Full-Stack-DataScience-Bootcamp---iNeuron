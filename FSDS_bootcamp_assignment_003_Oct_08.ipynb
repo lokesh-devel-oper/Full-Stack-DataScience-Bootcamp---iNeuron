{
 "cells": [
  {
   "cell_type": "markdown",
   "metadata": {
    "id": "cyOfbWCdOjEr"
   },
   "source": [
    "# ASSIGNMENTS - Compulsory\n",
    "## Send it before 0000 hrs IST or 12 AM Wednesday\n",
    "\n",
    "## NOTE: Evaluation will be done before next class.\n",
    "\n",
    "## HOW TO SUBMIT: -\n",
    "Download this notebook, Solve it and upload in the google form given in the mail."
   ]
  },
  {
   "cell_type": "markdown",
   "metadata": {
    "id": "GT4IytkJMNa-"
   },
   "source": [
    "## Python String Manipulation\n",
    "\n",
    "1. Count the number of times `iNeuron` appears in the string.\n",
    "```python\n",
    "text = \"Welcome to iNeuron, You are a part of FSDS Bootcamp 2 in iNeuron. I hope you are enjoying the course by iNeuron\"\n",
    "```\n",
    "2. Check if position `5` to `11` ends with the phrase `iNeuron.` in the string \n",
    "```python\n",
    "txt = \"Hello, welcome to FSDS 2.0 at iNeuron.\"\n",
    "```\n",
    "3. Write a program that takes your full name as input and displays the abbreviations of the first and middle names except the last name which is displayed as it is. For example, if your name is Sunny Bhaveen Chandra, then the output should be S.B.Chandra.\n",
    "\n",
    "4. Join all items in a list into a string, using a hash(`#`) character as separator:\n",
    "```python\n",
    "LIST = [\"My\", \"name\", \"is\", \"Rishav\", \"Dash\"]\n",
    "```\n",
    "5. Write example for the following string manipulation function,\n",
    "\n",
    "  ```\n",
    "  - isdecimal()\n",
    "  - islower()\n",
    "  - isupper()\n",
    "  - isalpha()\n",
    "  - isnumeric()\n",
    "\n",
    "  ```\n",
    "6. Indian PAN card format follows the following formats - \n",
    "    - `AYEPC7894X`\n",
    "    - `ABCDE9999Y`\n",
    "  Take user input for PAN_CARD and validate as per the above example.\n"
   ]
  },
  {
   "cell_type": "code",
   "execution_count": 1,
   "metadata": {
    "id": "KwVni9gipNi-"
   },
   "outputs": [
    {
     "data": {
      "text/plain": [
       "3"
      ]
     },
     "execution_count": 1,
     "metadata": {},
     "output_type": "execute_result"
    }
   ],
   "source": [
    "# 1. Count the number of times iNeuron appears in the string.\n",
    "\n",
    "text = \"Welcome to iNeuron, You are a part of FSDS Bootcamp 2 in iNeuron. I hope you are enjoying the course by iNeuron\"\n",
    "words = text.split(' ')\n",
    "count = 0\n",
    "for i in words:\n",
    "    if i[-1] == ',' or i[-1] =='.':\n",
    "        if i[:-1] == 'iNeuron':\n",
    "            count += 1\n",
    "    else:\n",
    "        if i == 'iNeuron':\n",
    "            count += 1\n",
    "        \n",
    "count"
   ]
  },
  {
   "cell_type": "code",
   "execution_count": 2,
   "metadata": {},
   "outputs": [
    {
     "name": "stdout",
     "output_type": "stream",
     "text": [
      "False\n"
     ]
    }
   ],
   "source": [
    "# 2.Check if position 5 to 11 ends with the phrase iNeuron. in the string\n",
    "\n",
    "txt = \"Hello, welcome to FSDS 2.0 at iNeuron.\"\n",
    "\n",
    "if txt[5:12] == 'iNeuron':\n",
    "    print(True)\n",
    "else:\n",
    "    print(False)\n"
   ]
  },
  {
   "cell_type": "code",
   "execution_count": 3,
   "metadata": {},
   "outputs": [
    {
     "name": "stdout",
     "output_type": "stream",
     "text": [
      "Enter full name: Lokesh Venkata Sai Ganesh\n"
     ]
    },
    {
     "data": {
      "text/plain": [
       "'L.V.S.Ganesh'"
      ]
     },
     "execution_count": 3,
     "metadata": {},
     "output_type": "execute_result"
    }
   ],
   "source": [
    "# 3.Write a program that takes your full name as input and displays the abbreviations of the first and middle names except the last name which is displayed as it is. For example, if your name is Sunny Bhaveen Chandra, then the output should be S.B.Chandra.\n",
    "\n",
    "Name = input('Enter full name: ').split(' ')\n",
    "\n",
    "short_name = []\n",
    "\n",
    "for i in Name:\n",
    "    short_name.append(i[0])\n",
    "    \n",
    "'.'.join(short_name[:-1])+'.'+Name[-1]"
   ]
  },
  {
   "cell_type": "code",
   "execution_count": 4,
   "metadata": {},
   "outputs": [
    {
     "name": "stdout",
     "output_type": "stream",
     "text": [
      "My#name#is#Rishav#Dash\n"
     ]
    }
   ],
   "source": [
    "# 4.Join all items in a list into a string, using a hash(#) character as separator:\n",
    "\n",
    "LIST = [\"My\", \"name\", \"is\", \"Rishav\", \"Dash\"]\n",
    "\n",
    "print('#'.join(LIST))"
   ]
  },
  {
   "cell_type": "code",
   "execution_count": 5,
   "metadata": {},
   "outputs": [
    {
     "name": "stdout",
     "output_type": "stream",
     "text": [
      "23.isdecimal():  True\n",
      "--------------------------------------\n",
      "1.isdecimal():  True\n",
      "--------------------------------------\n",
      "1.isnumeric():  True\n",
      "--------------------------------------\n",
      "ganesh.isnumeric():  False\n",
      "--------------------------------------\n",
      "--------------------------------------\n",
      "LOKESH.isalpha():  True\n",
      "--------------------------------------\n",
      "ganesh.islower():  True\n",
      "--------------------------------------\n",
      "ganesh.isupper():  False\n",
      "--------------------------------------\n",
      "LOKESH.isupper():  True\n",
      "--------------------------------------\n",
      "LOKESH.isupper():  True\n"
     ]
    }
   ],
   "source": [
    "# 5.\n",
    "'''Write example for the following string manipulation function,\n",
    "\n",
    "- isdecimal()\n",
    "- islower()\n",
    "- isupper()\n",
    "- isalpha()\n",
    "- isnumeric()'''\n",
    "\n",
    "num = '23'\n",
    "num2= \"\\u0031\"\n",
    "\n",
    "char = 'LOKESH'\n",
    "char2 = 'ganesh'\n",
    "char3 = 'Ganesh'\n",
    "\n",
    "print(f'{num}.isdecimal(): ',num.isdecimal())\n",
    "print('--------------------------------------')\n",
    "print(f'{num2}.isdecimal(): ',num2.isdecimal())\n",
    "print('--------------------------------------')\n",
    "print(f'{num2}.isnumeric(): ',num2.isnumeric())\n",
    "print('--------------------------------------')\n",
    "print(f'{char2}.isnumeric(): ',char2.isnumeric())\n",
    "print('--------------------------------------')\n",
    "print('--------------------------------------')\n",
    "print(f'{char}.isalpha(): ',char.isalpha())\n",
    "print('--------------------------------------')\n",
    "print(f'{char2}.islower(): ',char2.islower())\n",
    "print('--------------------------------------')\n",
    "print(f'{char2}.isupper(): ',char2.isupper())\n",
    "print('--------------------------------------')\n",
    "print(f'{char}.isupper(): ',char.isupper())\n",
    "print('--------------------------------------')\n",
    "print(f'{char}.isupper(): ',char.isupper())"
   ]
  },
  {
   "cell_type": "code",
   "execution_count": 8,
   "metadata": {},
   "outputs": [
    {
     "name": "stdout",
     "output_type": "stream",
     "text": [
      "Enter pan number: ABCDE9999Y\n",
      "its a valid number - ABCDE9999Y\n"
     ]
    }
   ],
   "source": [
    "# 6.\n",
    "'''Indian PAN card format follows the following formats -\n",
    "AYEPC7894X\n",
    "ABCDE9999Y Take user input for PAN_CARD and validate as per the above example.'''\n",
    "\n",
    "pan_number = input(\"Enter pan number: \")\n",
    "\n",
    "if pan_number[0:5].isalpha() and  pan_number[-1].isalpha() and pan_number[5:-1]:\n",
    "    print(\"its a valid number -\",pan_number)\n",
    "else:\n",
    "    print('please enter the valid number')"
   ]
  },
  {
   "cell_type": "code",
   "execution_count": null,
   "metadata": {},
   "outputs": [],
   "source": []
  }
 ],
 "metadata": {
  "colab": {
   "collapsed_sections": [],
   "provenance": []
  },
  "kernelspec": {
   "display_name": "Python 3 (ipykernel)",
   "language": "python",
   "name": "python3"
  },
  "language_info": {
   "codemirror_mode": {
    "name": "ipython",
    "version": 3
   },
   "file_extension": ".py",
   "mimetype": "text/x-python",
   "name": "python",
   "nbconvert_exporter": "python",
   "pygments_lexer": "ipython3",
   "version": "3.10.0"
  }
 },
 "nbformat": 4,
 "nbformat_minor": 1
}
