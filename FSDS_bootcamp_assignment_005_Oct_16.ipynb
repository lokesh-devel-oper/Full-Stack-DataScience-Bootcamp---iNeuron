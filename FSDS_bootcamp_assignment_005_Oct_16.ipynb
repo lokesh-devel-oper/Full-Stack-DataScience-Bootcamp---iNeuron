{
 "cells": [
  {
   "cell_type": "markdown",
   "metadata": {
    "id": "dkGbTD94s6CD"
   },
   "source": [
    "# ASSIGNMENTS \n",
    "## Send it before 0000 hrs IST or 12 AM Friday\n",
    "\n",
    "## NOTE: Evaluation will be done before next class.\n",
    "\n",
    "## HOW TO SUBMIT: -\n",
    "Download this notebook, Solve it and upload in the google form given in the mail."
   ]
  },
  {
   "cell_type": "markdown",
   "metadata": {
    "id": "n3FuI-mutNl6"
   },
   "source": [
    "# List, Tuple and Sets"
   ]
  },
  {
   "cell_type": "markdown",
   "metadata": {
    "id": "hZcGNSR2y9zW"
   },
   "source": [
    "#### 1. On amazon website we have the following available items - \n",
    "\n",
    "```python\n",
    "amazon_website = [(\"watch\", 5000), (\"phone\", 10000), (\"laptop\", 50000), (\"shirt\", 1000)]\n",
    "```\n",
    "Take the user input N no. of times and find out the total cost to be paid?\n",
    "\n",
    "OR\n",
    "\n",
    "You can ask the user quntity or the count of item?\n",
    "\n",
    "if the item is not present in the amazon website then print that item as out of stock and do add it total\n",
    "\n",
    "\n",
    "HINT: while, for loop.. indexing"
   ]
  },
  {
   "cell_type": "markdown",
   "metadata": {
    "id": "FQrKC2gzzsUm"
   },
   "source": [
    "#### 2. What will be the output of the following code snippet?\n",
    "\n",
    "```\n",
    "arr = [1, 2, 3, 4, 5, 6]\n",
    "for i in range(1, 6):\n",
    "    arr[i - 1] = arr[i]\n",
    "for i in range(0, 6): \n",
    "    print(arr[i], end = \" \")\n",
    "```"
   ]
  },
  {
   "cell_type": "markdown",
   "metadata": {
    "id": "nL_DZJFS0ZZF"
   },
   "source": [
    "#### 3. Write a Python program to find the repeated items of a tuple."
   ]
  },
  {
   "cell_type": "markdown",
   "metadata": {
    "id": "ne8WpLZZ1GSm"
   },
   "source": [
    "### 4. Replace last value of tuples in a list with 500. Try using list comprehension\n",
    "\n",
    "Example -: \n",
    "```\n",
    "Input -:\n",
    "\n",
    "[(10, 20, 40), (40, 50, 60), (70, 80, 90)]\n",
    "\n",
    "Output -:\n",
    "[(10, 20, 500), (40, 50, 500), (70, 80, 500)]\n",
    "\n",
    "\n",
    "```\n"
   ]
  },
  {
   "cell_type": "code",
   "execution_count": 1,
   "metadata": {
    "colab": {
     "base_uri": "https://localhost:8080/"
    },
    "id": "YpvH9Di21z-O",
    "outputId": "d0d3dc87-9177-4dc5-ebd2-3df35f3e8071"
   },
   "outputs": [
    {
     "name": "stdout",
     "output_type": "stream",
     "text": [
      "hey user, enter the items required and the quantity \n",
      "books 4, watch 4, shirt 3, tshirt 4\n",
      "books out of stock\n",
      "tshirt out of stock\n",
      "the total amount is 23000\n"
     ]
    }
   ],
   "source": [
    "#question 1\n",
    "amazon_website = [(\"watch\", 5000), (\"phone\", 10000), (\"laptop\", 50000), (\"shirt\", 1000)]\n",
    "\n",
    "items_needed = input(\"hey user, enter the items required and the quantity \\n\") #input format  watch 4, shirt 3\n",
    "items_needed = items_needed. split(',')\n",
    "items_needed = dict(x.split() for x in items_needed)\n",
    "\n",
    "total_cost = list()\n",
    "for item in items_needed.keys():\n",
    "    if not any(item in sublist for sublist in amazon_website): #if any item is not present in amazon website mention it as out of stock and move to next item\n",
    "        print(f\"{item} out of stock\")\n",
    "        continue\n",
    "\n",
    "    item_price = [sublist[1] for sublist in amazon_website if item in sublist][0]  #take the price of the item if it is present in amazon_website\n",
    "    total_per_item = float(item_price) * float(items_needed[item])\n",
    "    total_cost.append(int(total_per_item))\n",
    "\n",
    "print(f\"the total amount is {sum(total_cost)}\")"
   ]
  },
  {
   "cell_type": "code",
   "execution_count": 2,
   "metadata": {
    "colab": {
     "base_uri": "https://localhost:8080/"
    },
    "id": "mbx4uz9Y2bHk",
    "outputId": "73241abe-86b7-4ef2-eafb-c2363f6fffd6"
   },
   "outputs": [
    {
     "name": "stdout",
     "output_type": "stream",
     "text": [
      "2 3 4 5 6 6 "
     ]
    }
   ],
   "source": [
    "#question 2 \n",
    "arr = [1, 2, 3, 4, 5, 6]\n",
    "for i in range(1, 6):\n",
    "    arr[i - 1] = arr[i]\n",
    "for i in range(0, 6): \n",
    "    print(arr[i], end = \" \")"
   ]
  },
  {
   "cell_type": "code",
   "execution_count": 3,
   "metadata": {
    "colab": {
     "base_uri": "https://localhost:8080/"
    },
    "id": "LHHY88WB8TZA",
    "outputId": "3f3beb1d-69a6-4519-b027-a19e2f97dee0"
   },
   "outputs": [
    {
     "name": "stdout",
     "output_type": "stream",
     "text": [
      "{1, 2, 9}\n"
     ]
    }
   ],
   "source": [
    "#question 3\n",
    "tuple_t = (1,2,3,4,5,6,1,2,7,8,9,9,1)\n",
    "print({i for i in tuple_t if tuple_t.count(i) > 1})"
   ]
  },
  {
   "cell_type": "code",
   "execution_count": 4,
   "metadata": {
    "colab": {
     "base_uri": "https://localhost:8080/"
    },
    "id": "6N7Ogb14Me2u",
    "outputId": "931040e5-4acd-4273-f3ca-11f10b3b918b"
   },
   "outputs": [
    {
     "name": "stdout",
     "output_type": "stream",
     "text": [
      "[(10, 20, 500), (40, 50, 500), (70, 80, 500)]\n"
     ]
    }
   ],
   "source": [
    "#question 4\n",
    "mylist = [(10, 20, 40), (40, 50, 60), (70, 80, 90)]\n",
    "\n",
    "print([tuples[:-1] + (500,) for tuples in mylist])"
   ]
  },
  {
   "cell_type": "code",
   "execution_count": null,
   "metadata": {
    "id": "Ga2WH_bwKb3e"
   },
   "outputs": [],
   "source": []
  }
 ],
 "metadata": {
  "colab": {
   "collapsed_sections": [],
   "provenance": []
  },
  "kernelspec": {
   "display_name": "Python 3.7.11 ('base')",
   "language": "python",
   "name": "python3"
  },
  "language_info": {
   "codemirror_mode": {
    "name": "ipython",
    "version": 3
   },
   "file_extension": ".py",
   "mimetype": "text/x-python",
   "name": "python",
   "nbconvert_exporter": "python",
   "pygments_lexer": "ipython3",
   "version": "3.7.11"
  },
  "vscode": {
   "interpreter": {
    "hash": "137abbe3a1025327475505b0398c579d4ffc92f48265e7cd5cfe7a319d8aa47c"
   }
  }
 },
 "nbformat": 4,
 "nbformat_minor": 1
}
