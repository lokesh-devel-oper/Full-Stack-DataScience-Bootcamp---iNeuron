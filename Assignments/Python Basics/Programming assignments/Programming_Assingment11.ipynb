{
 "cells": [
  {
   "cell_type": "code",
   "execution_count": 1,
   "id": "9a856ea8",
   "metadata": {},
   "outputs": [
    {
     "name": "stdout",
     "output_type": "stream",
     "text": [
      "['quick', 'brown', 'jumps']\n"
     ]
    }
   ],
   "source": [
    "# 1. Write a Python program to find words which are greater than given length k?\n",
    "\n",
    "def find_long_words(text, k):\n",
    "    words = text.split()\n",
    "    long_words = [word for word in words if len(word) > k]\n",
    "    return long_words\n",
    "\n",
    "text = \"The quick brown fox jumps over the lazy dog.\"\n",
    "k = 4\n",
    "print(find_long_words(text, k))"
   ]
  },
  {
   "cell_type": "code",
   "execution_count": 2,
   "id": "5de1f4ae",
   "metadata": {},
   "outputs": [
    {
     "name": "stdout",
     "output_type": "stream",
     "text": [
      "Hell World!\n"
     ]
    }
   ],
   "source": [
    "# 2. Write a Python program for removing i-th character from a string?\n",
    "\n",
    "def remove_ith_char(string, i):\n",
    "    return string[:i] + string[i+1:]\n",
    "\n",
    "string = \"Hello World!\"\n",
    "i = 4\n",
    "print(remove_ith_char(string, i))"
   ]
  },
  {
   "cell_type": "code",
   "execution_count": 3,
   "id": "aac6cc3e",
   "metadata": {},
   "outputs": [
    {
     "name": "stdout",
     "output_type": "stream",
     "text": [
      "split: ['Hello', 'World!'] | join: Hello World!\n"
     ]
    }
   ],
   "source": [
    "# 3. Write a Python program to split and join a string?\n",
    "\n",
    "def split_and_join(string, delimiter):\n",
    "    # split the string\n",
    "    words = string.split(delimiter)\n",
    "    # join the words using the delimiter\n",
    "    new_string = delimiter.join(words)\n",
    "    return (f'split: {words} | join: {new_string}')\n",
    "\n",
    "string = \"Hello World!\"\n",
    "delimiter = \" \"\n",
    "print(split_and_join(string, delimiter))"
   ]
  },
  {
   "cell_type": "code",
   "execution_count": 4,
   "id": "ec3f7fe9",
   "metadata": {},
   "outputs": [
    {
     "name": "stdout",
     "output_type": "stream",
     "text": [
      "True\n",
      "False\n"
     ]
    }
   ],
   "source": [
    "# 4. Write a Python to check if a given string is binary string or not?\n",
    "\n",
    "def is_binary_string(string):\n",
    "    for char in string:\n",
    "        if char != '0' and char != '1':\n",
    "            return False\n",
    "    return True\n",
    "\n",
    "# Example usage\n",
    "print(is_binary_string(\"10101\"))\n",
    "print(is_binary_string(\"10101a\"))"
   ]
  },
  {
   "cell_type": "code",
   "execution_count": 5,
   "id": "d345ccfa",
   "metadata": {},
   "outputs": [
    {
     "name": "stdout",
     "output_type": "stream",
     "text": [
      "{'fox', 'cat', 'yellow', 'brown'}\n"
     ]
    }
   ],
   "source": [
    "# 5. Write a Python program to find uncommon words from two Strings?\n",
    "\n",
    "def uncommon_words(string1, string2):\n",
    "    # Convert the input strings to lists of words\n",
    "    words1 = string1.split()\n",
    "    words2 = string2.split()\n",
    "\n",
    "    # Use set operations to find uncommon words\n",
    "    uncommon = set(words1).symmetric_difference(set(words2))\n",
    "\n",
    "    return uncommon\n",
    "\n",
    "# Example usage\n",
    "string1 = \"The quick brown fox jumps over the lazy dog\"\n",
    "string2 = \"The quick yellow dog jumps over the lazy cat\"\n",
    "uncommon = uncommon_words(string1, string2)\n",
    "print(uncommon)"
   ]
  },
  {
   "cell_type": "code",
   "execution_count": 6,
   "id": "815b3a61",
   "metadata": {},
   "outputs": [
    {
     "name": "stdout",
     "output_type": "stream",
     "text": [
      "['t', 'h', 'e', ' ', 'u', 'r', 'o']\n"
     ]
    }
   ],
   "source": [
    "# 6. Write a Python to find all duplicate characters in string?\n",
    "\n",
    "def find_duplicate_chars(string):\n",
    "    # Create an empty dictionary\n",
    "    char_count = {}\n",
    "  \n",
    "    # Iterate through each character in the string\n",
    "    for char in string:\n",
    "        # If the character is already in the dictionary, increment the count\n",
    "        if char in char_count:\n",
    "            char_count[char] += 1\n",
    "        # Otherwise, add the character to the dictionary with a count of 1\n",
    "        else:\n",
    "            char_count[char] = 1\n",
    "    \n",
    "    # Iterate through the dictionary and collect the characters that have a count greater than 1\n",
    "    duplicate_chars = []\n",
    "    for char, count in char_count.items():\n",
    "        if count > 1:\n",
    "            duplicate_chars.append(char)\n",
    "  \n",
    "    return duplicate_chars\n",
    "\n",
    "# Example usage\n",
    "string = \"the quick brown fox jumps over the lazy dog\"\n",
    "duplicate_chars = find_duplicate_chars(string)\n",
    "print(duplicate_chars)"
   ]
  },
  {
   "cell_type": "code",
   "execution_count": 7,
   "id": "7866a42a",
   "metadata": {},
   "outputs": [
    {
     "name": "stdout",
     "output_type": "stream",
     "text": [
      "True\n",
      "False\n"
     ]
    }
   ],
   "source": [
    "# 7. Write a Python Program to check if a string contains any special character?\n",
    "\n",
    "import re\n",
    "\n",
    "def contains_special_char(string):\n",
    "    # Use regular expression to match any non-alphanumeric character\n",
    "    match = re.search(\"[^a-zA-Z0-9]\", string)\n",
    "    if match:\n",
    "        return True\n",
    "    else:\n",
    "        return False\n",
    "\n",
    "# Example usage\n",
    "string = \"Hello, World!\"\n",
    "print(contains_special_char(string))\n",
    "string = \"HelloWorld\"\n",
    "print(contains_special_char(string))"
   ]
  }
 ],
 "metadata": {
  "kernelspec": {
   "display_name": "Python 3 (ipykernel)",
   "language": "python",
   "name": "python3"
  },
  "language_info": {
   "codemirror_mode": {
    "name": "ipython",
    "version": 3
   },
   "file_extension": ".py",
   "mimetype": "text/x-python",
   "name": "python",
   "nbconvert_exporter": "python",
   "pygments_lexer": "ipython3",
   "version": "3.10.0"
  }
 },
 "nbformat": 4,
 "nbformat_minor": 5
}
