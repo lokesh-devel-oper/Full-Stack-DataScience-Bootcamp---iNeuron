{
 "cells": [
  {
   "cell_type": "code",
   "execution_count": 1,
   "metadata": {},
   "outputs": [
    {
     "name": "stdout",
     "output_type": "stream",
     "text": [
      "15\n"
     ]
    }
   ],
   "source": [
    "# 1.\tWrite a Python Program to find sum of array?\n",
    "\n",
    "def sum_array(arr):\n",
    "    sum = 0\n",
    "    for i in arr:\n",
    "        sum += i\n",
    "    return sum\n",
    "\n",
    "arr = [1,2,3,4,5]\n",
    "print(sum_array(arr))"
   ]
  },
  {
   "cell_type": "code",
   "execution_count": 2,
   "metadata": {},
   "outputs": [
    {
     "name": "stdout",
     "output_type": "stream",
     "text": [
      "5\n"
     ]
    }
   ],
   "source": [
    "# 2.\tWrite a Python Program to find largest element in an array?\n",
    "\n",
    "def largest_element(arr):\n",
    "    max = arr[0]\n",
    "    for i in arr:\n",
    "        if i > max:\n",
    "            max = i\n",
    "    return max\n",
    "\n",
    "arr = [1,2,3,4,5]\n",
    "print(largest_element(arr))"
   ]
  },
  {
   "cell_type": "code",
   "execution_count": 3,
   "metadata": {},
   "outputs": [
    {
     "name": "stdout",
     "output_type": "stream",
     "text": [
      "[3, 4, 5, 1, 2]\n"
     ]
    }
   ],
   "source": [
    "# 3.\tWrite a Python Program for array rotation?\n",
    "\n",
    "def array_rotation(arr, n):\n",
    "    for i in range(n):\n",
    "        arr.append(arr.pop(0))\n",
    "    return arr\n",
    "\n",
    "arr = [1,2,3,4,5]\n",
    "print(array_rotation(arr, 2))"
   ]
  },
  {
   "cell_type": "code",
   "execution_count": 4,
   "metadata": {},
   "outputs": [
    {
     "name": "stdout",
     "output_type": "stream",
     "text": [
      "[3, 4, 5, 1, 2]\n"
     ]
    }
   ],
   "source": [
    "# 4.\tWrite a Python Program to Split the array and add the first part to the end?\n",
    "\n",
    "def split_array(arr, n):\n",
    "    return arr[n:] + arr[:n]\n",
    "\n",
    "arr = [1,2,3,4,5]\n",
    "print(split_array(arr, 2))"
   ]
  },
  {
   "cell_type": "code",
   "execution_count": 5,
   "metadata": {},
   "outputs": [
    {
     "name": "stdout",
     "output_type": "stream",
     "text": [
      "True\n"
     ]
    }
   ],
   "source": [
    "# 5.\tWrite a Python Program to check if given array is Monotonic?\n",
    "\n",
    "def monotonic_array(arr):\n",
    "    return (all(arr[i] <= arr[i+1] for i in range(len(arr)-1)) or all(arr[i] >= arr[i+1] for i in range(len(arr)-1)))\n",
    "\n",
    "arr = [1,2,3,4,5]\n",
    "print(monotonic_array(arr))"
   ]
  }
 ],
 "metadata": {
  "kernelspec": {
   "display_name": "Python 3.7.11 ('base')",
   "language": "python",
   "name": "python3"
  },
  "language_info": {
   "codemirror_mode": {
    "name": "ipython",
    "version": 3
   },
   "file_extension": ".py",
   "mimetype": "text/x-python",
   "name": "python",
   "nbconvert_exporter": "python",
   "pygments_lexer": "ipython3",
   "version": "3.7.11"
  },
  "orig_nbformat": 4,
  "vscode": {
   "interpreter": {
    "hash": "137abbe3a1025327475505b0398c579d4ffc92f48265e7cd5cfe7a319d8aa47c"
   }
  }
 },
 "nbformat": 4,
 "nbformat_minor": 2
}
