{
 "cells": [
  {
   "cell_type": "code",
   "execution_count": 2,
   "id": "1164ff57",
   "metadata": {},
   "outputs": [
    {
     "name": "stdout",
     "output_type": "stream",
     "text": [
      "Given numbers: ['12', '24', '4']\n",
      "6,9,4\n"
     ]
    }
   ],
   "source": [
    "'''\n",
    "    Question 1:\n",
    "        Write a program that calculates and prints the value according to the given formula:\n",
    "            Q = Square root of [(2 * C * D)/H]\n",
    "            Following are the fixed values of C and H:\n",
    "            C is 50. H is 30.\n",
    "            D is the variable whose values should be input to your program in a comma-separated\n",
    "            sequence.\n",
    "            Example\n",
    "            Let us assume the following comma separated input sequence is given to the program:\n",
    "            100,150,180\n",
    "            The output of the program should be:\n",
    "            18,22,24\n",
    "'''\n",
    "\n",
    "# Solution\n",
    "\n",
    "import math\n",
    "\n",
    "numbers = input(\"Provide D in with comma separated: \")\n",
    "numbers = numbers.split(',')\n",
    "\n",
    "result_list = []\n",
    "result_string = ''\n",
    "for D in numbers:\n",
    "    Q = round(math.sqrt(2 * 50 * int(D) / 30))\n",
    "    result_list.append(str(Q))\n",
    "\n",
    "print('Given numbers:',numbers)\n",
    "print(','.join(result_list))"
   ]
  },
  {
   "cell_type": "code",
   "execution_count": 5,
   "id": "38512b91",
   "metadata": {},
   "outputs": [
    {
     "name": "stdout",
     "output_type": "stream",
     "text": [
      "Enter the element : 5 7\n"
     ]
    },
    {
     "data": {
      "text/plain": [
       "[[12, 4, 8, 14, 20, 7, 20],\n",
       " [33, 17, 25, 5, 16, 34, 28],\n",
       " [9, 4, 15, 0, 12, 0, 11],\n",
       " [30, 24, 24, 15, 2, 13, 29],\n",
       " [33, 31, 25, 14, 30, 22, 8]]"
      ]
     },
     "execution_count": 5,
     "metadata": {},
     "output_type": "execute_result"
    }
   ],
   "source": [
    "'''\n",
    "Question 2:\n",
    "Write a program which takes 2 digits, X,Y as input and generates a 2-dimensional array. The\n",
    "element value in the i-th row and j-th column of the array should be i*j.\n",
    "Note: i=0,1.., X-1; j=0,1,¡Y-1.\n",
    "Example\n",
    "Suppose the following inputs are given to the program:\n",
    "3,5\n",
    "Then, the output of the program should be:\n",
    "[[0, 0, 0, 0, 0], [0, 1, 2, 3, 4], [0, 2, 4, 6, 8]]\n",
    "\n",
    "'''\n",
    "\n",
    "# Solution\n",
    "import random\n",
    "def createMatrix(n,m):\n",
    "    M=[]             \n",
    "    print(\"Enter the element :\",n,m)\n",
    "    for i in range(n):\n",
    "        #stor row\n",
    "        row =[]\n",
    "        for j in range(m):\n",
    "            row.append(random.randint(0,(n*m)))\n",
    "        M.append(row)\n",
    "    return(M)\n",
    "\n",
    "x = int(input(\"Enter x : \"))\n",
    "y = int(input(\"enter y : \"))\n",
    "\n",
    "createMatrix(x,y)\n"
   ]
  },
  {
   "cell_type": "code",
   "execution_count": 6,
   "id": "23232553",
   "metadata": {},
   "outputs": [
    {
     "name": "stdout",
     "output_type": "stream",
     "text": [
      "Hello,a,is,program,sample,test,this,to\n"
     ]
    }
   ],
   "source": [
    "'''\n",
    "Question 3:\n",
    "Write a program that accepts a comma separated sequence of words as input and prints the\n",
    "words in a comma-separated sequence after sorting them alphabetically.\n",
    "Suppose the following input is supplied to the program:\n",
    "without,hello,bag,world\n",
    "Then, the output should be:\n",
    "bag,hello,without,world\n",
    "\n",
    "'''\n",
    "\n",
    "# Solution\n",
    "items=[x for x in input('Enter comma seperated words ').split(',')]\n",
    "items.sort()    \n",
    "print(','.join(items))"
   ]
  },
  {
   "cell_type": "code",
   "execution_count": 7,
   "id": "61d77601",
   "metadata": {},
   "outputs": [
    {
     "name": "stdout",
     "output_type": "stream",
     "text": [
      "and hello makes perfect practice world\n"
     ]
    }
   ],
   "source": [
    "'''\n",
    "Question 4:\n",
    "Write a program that accepts a sequence of whitespace separated words as input and prints\n",
    "the words after removing all duplicate words and sorting them alphanumerically.\n",
    "Suppose the following input is supplied to the program:\n",
    "hello world and practice makes perfect and hello world again\n",
    "Then, the output should be:\n",
    "again and hello makes perfect practice world\n",
    "\n",
    "'''\n",
    "\n",
    "# solution\n",
    "\n",
    "items=[x for x in input('Enter space sepeated words ').split(' ')]\n",
    "print(' '.join(sorted(list(set(items)))))"
   ]
  },
  {
   "cell_type": "code",
   "execution_count": 8,
   "id": "3704e6be",
   "metadata": {},
   "outputs": [
    {
     "name": "stdout",
     "output_type": "stream",
     "text": [
      "Letters 12\n",
      "Digits 5\n"
     ]
    }
   ],
   "source": [
    "'''\n",
    "Question 5:\n",
    "Write a program that accepts a sentence and calculate the number of letters and digits.\n",
    "Suppose the following input is supplied to the program:\n",
    "hello world! 123\n",
    "Then, the output should be:\n",
    "LETTERS 10\n",
    "DIGITS 3\n",
    "\n",
    "'''\n",
    "\n",
    "# solution\n",
    "\n",
    "s = input(\"Input a string : \")\n",
    "digits=letters=0\n",
    "for c in s:\n",
    "    if c.isdigit():\n",
    "        digits += 1\n",
    "    elif c.isalpha():\n",
    "        letters += 1\n",
    "    else:\n",
    "        pass\n",
    "print(\"Letters\", letters)\n",
    "print(\"Digits\", digits)"
   ]
  },
  {
   "cell_type": "code",
   "execution_count": 10,
   "id": "062188bf",
   "metadata": {},
   "outputs": [
    {
     "name": "stdout",
     "output_type": "stream",
     "text": [
      "20392@lokdn Not a Valid Password\n"
     ]
    }
   ],
   "source": [
    "'''\n",
    "Question 6:\n",
    "A website requires the users to input username and password to register. Write a program to\n",
    "check the validity of password input by users.\n",
    "Following are the criteria for checking the password:\n",
    "1. At least 1 letter between [a-z]\n",
    "2. At least 1 number between [0-9]\n",
    "1. At least 1 letter between [A-Z]\n",
    "3. At least 1 character from [$#@]\n",
    "4. Minimum length of transaction password: 6\n",
    "5. Maximum length of transaction password: 12\n",
    "Your program should accept a sequence of comma separated passwords and will check them\n",
    "according to the above criteria. Passwords that match the criteria are to be printed, each\n",
    "separated by a comma.\n",
    "Example\n",
    "If the following passwords are given as input to the program:\n",
    "ABd1234@1,a F1#,2w3E*,2We3345\n",
    "Then, the output of the program should be:\n",
    "ABd1234@1\n",
    "\n",
    "'''\n",
    "\n",
    "# solution\n",
    "\n",
    "import re\n",
    "password= input(\"Enter your password : \")\n",
    "x = True\n",
    "while x:  \n",
    "    if (len(password) < 6 or len(password) > 12):\n",
    "        break\n",
    "    elif not re.search(\"[a-z]\",password):\n",
    "        break\n",
    "    elif not re.search(\"[0-9]\",password):\n",
    "        break\n",
    "    elif not re.search(\"[A-Z]\",password):\n",
    "        break\n",
    "    elif not re.search(\"[$#@]\",password):\n",
    "        break\n",
    "    elif re.search(\"\\s\",password):\n",
    "        break\n",
    "    else:\n",
    "        print(password,\"Valid Password\")\n",
    "        x=False\n",
    "        break\n",
    "\n",
    "if x:\n",
    "    print(password,\"Not a Valid Password\")"
   ]
  }
 ],
 "metadata": {
  "kernelspec": {
   "display_name": "Python 3 (ipykernel)",
   "language": "python",
   "name": "python3"
  },
  "language_info": {
   "codemirror_mode": {
    "name": "ipython",
    "version": 3
   },
   "file_extension": ".py",
   "mimetype": "text/x-python",
   "name": "python",
   "nbconvert_exporter": "python",
   "pygments_lexer": "ipython3",
   "version": "3.8.0"
  }
 },
 "nbformat": 4,
 "nbformat_minor": 5
}
