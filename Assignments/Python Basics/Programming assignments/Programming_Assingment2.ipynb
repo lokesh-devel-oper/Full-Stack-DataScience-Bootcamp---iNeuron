{
 "cells": [
  {
   "cell_type": "code",
   "execution_count": 1,
   "metadata": {},
   "outputs": [
    {
     "name": "stdout",
     "output_type": "stream",
     "text": [
      "The value in miles is:  7.4564520000000005\n"
     ]
    }
   ],
   "source": [
    "# 1.\tWrite a Python program to convert kilometers to miles?\n",
    "\n",
    "kilometers = float(input(\"Enter the value in kilometers: \"))\n",
    "miles = kilometers * 0.621371\n",
    "print(\"The value in miles is: \", miles)"
   ]
  },
  {
   "cell_type": "code",
   "execution_count": 2,
   "metadata": {},
   "outputs": [
    {
     "name": "stdout",
     "output_type": "stream",
     "text": [
      "The value in fahrenheit is:  89.6\n"
     ]
    }
   ],
   "source": [
    "# 2.\tWrite a Python program to convert Celsius to Fahrenheit?\n",
    "\n",
    "celsius = float(input(\"Enter the value in celsius: \"))\n",
    "fahrenheit = (celsius * 1.8) + 32\n",
    "print(\"The value in fahrenheit is: \", fahrenheit)"
   ]
  },
  {
   "cell_type": "code",
   "execution_count": 3,
   "metadata": {},
   "outputs": [
    {
     "name": "stdout",
     "output_type": "stream",
     "text": [
      "   November 2022\n",
      "Mo Tu We Th Fr Sa Su\n",
      "    1  2  3  4  5  6\n",
      " 7  8  9 10 11 12 13\n",
      "14 15 16 17 18 19 20\n",
      "21 22 23 24 25 26 27\n",
      "28 29 30\n",
      "\n"
     ]
    }
   ],
   "source": [
    "# 3.\tWrite a Python program to display calendar?\n",
    "\n",
    "import calendar\n",
    "year = int(input(\"Enter the year: \"))\n",
    "month = int(input(\"Enter the month: \"))\n",
    "print(calendar.month(year, month))\n"
   ]
  },
  {
   "cell_type": "code",
   "execution_count": 4,
   "metadata": {},
   "outputs": [
    {
     "name": "stdout",
     "output_type": "stream",
     "text": [
      "The solution are (-1-1.4142135623730951j) and (-1+1.4142135623730951j)\n"
     ]
    }
   ],
   "source": [
    "# 4.\tWrite a Python program to solve quadratic equation?\n",
    "\n",
    "import cmath\n",
    "\n",
    "a = int(input(\"Enter the value of a: \"))\n",
    "b = int(input(\"Enter the value of b: \"))\n",
    "c = int(input(\"Enter the value of c: \"))\n",
    "d = (b**2) - (4*a*c)\n",
    "sol1 = (-b-cmath.sqrt(d))/(2*a)\n",
    "sol2 = (-b+cmath.sqrt(d))/(2*a)\n",
    "print(\"The solution are {0} and {1}\".format(sol1,sol2))"
   ]
  },
  {
   "cell_type": "code",
   "execution_count": 5,
   "metadata": {},
   "outputs": [
    {
     "name": "stdout",
     "output_type": "stream",
     "text": [
      "The value of a after swapping:  3\n",
      "The value of b after swapping:  4\n"
     ]
    }
   ],
   "source": [
    "# 5.\tWrite a Python program to swap two variables without temp variable?\n",
    "\n",
    "a = int(input(\"Enter the value of a: \"))\n",
    "b = int(input(\"Enter the value of b: \"))\n",
    "a = a + b\n",
    "b = a - b\n",
    "a = a - b\n",
    "print(\"The value of a after swapping: \", a)\n",
    "print(\"The value of b after swapping: \", b)\n"
   ]
  },
  {
   "cell_type": "code",
   "execution_count": null,
   "metadata": {},
   "outputs": [],
   "source": []
  }
 ],
 "metadata": {
  "kernelspec": {
   "display_name": "Python 3.7.11 ('base')",
   "language": "python",
   "name": "python3"
  },
  "language_info": {
   "codemirror_mode": {
    "name": "ipython",
    "version": 3
   },
   "file_extension": ".py",
   "mimetype": "text/x-python",
   "name": "python",
   "nbconvert_exporter": "python",
   "pygments_lexer": "ipython3",
   "version": "3.7.11"
  },
  "orig_nbformat": 4,
  "vscode": {
   "interpreter": {
    "hash": "137abbe3a1025327475505b0398c579d4ffc92f48265e7cd5cfe7a319d8aa47c"
   }
  }
 },
 "nbformat": 4,
 "nbformat_minor": 2
}
