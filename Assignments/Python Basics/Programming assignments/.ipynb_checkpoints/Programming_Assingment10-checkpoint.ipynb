{
 "cells": [
  {
   "cell_type": "code",
   "execution_count": 1,
   "metadata": {},
   "outputs": [
    {
     "name": "stdout",
     "output_type": "stream",
     "text": [
      "15\n"
     ]
    }
   ],
   "source": [
    "# 1.\tWrite a Python program to find sum of elements in list?\n",
    "\n",
    "def sum_list(my_list):\n",
    "    return sum(my_list)\n",
    "\n",
    "my_list = [1, 2, 3, 4, 5]\n",
    "print(sum_list(my_list))"
   ]
  },
  {
   "cell_type": "code",
   "execution_count": 2,
   "metadata": {},
   "outputs": [
    {
     "name": "stdout",
     "output_type": "stream",
     "text": [
      "120\n"
     ]
    }
   ],
   "source": [
    "# 2.\tWrite a Python program to  Multiply all numbers in the list?\n",
    "\n",
    "def multiply_list(my_list):\n",
    "    result = 1\n",
    "    for num in my_list:\n",
    "        result *= num\n",
    "    return result\n",
    "\n",
    "my_list = [1, 2, 3, 4, 5]\n",
    "print(multiply_list(my_list))"
   ]
  },
  {
   "cell_type": "code",
   "execution_count": 3,
   "metadata": {},
   "outputs": [
    {
     "name": "stdout",
     "output_type": "stream",
     "text": [
      "1\n"
     ]
    }
   ],
   "source": [
    "# 3.\tWrite a Python program to find smallest number in a list?\n",
    "\n",
    "def find_smallest(my_list):\n",
    "    my_list.sort()\n",
    "    return my_list[0]\n",
    "\n",
    "my_list = [3,2,5,1,6,8]\n",
    "print(find_smallest(my_list))"
   ]
  },
  {
   "cell_type": "code",
   "execution_count": 4,
   "metadata": {},
   "outputs": [
    {
     "name": "stdout",
     "output_type": "stream",
     "text": [
      "8\n"
     ]
    }
   ],
   "source": [
    "# 4.\tWrite a Python program to find largest number in a list?\n",
    "\n",
    "def find_largest(my_list):\n",
    "    return max(my_list)\n",
    "\n",
    "my_list = [3,2,5,1,6,8]\n",
    "print(find_largest(my_list))"
   ]
  },
  {
   "cell_type": "code",
   "execution_count": 5,
   "metadata": {},
   "outputs": [
    {
     "name": "stdout",
     "output_type": "stream",
     "text": [
      "6\n"
     ]
    }
   ],
   "source": [
    "# 5.\tWrite a Python program to find second largest number in a list?\n",
    "\n",
    "def find_second_largest(my_list):\n",
    "    my_list.sort(reverse=True)\n",
    "    return my_list[1]\n",
    "\n",
    "my_list = [3, 2, 5, 1, 6, 8]\n",
    "print(find_second_largest(my_list))"
   ]
  },
  {
   "cell_type": "code",
   "execution_count": 6,
   "metadata": {},
   "outputs": [
    {
     "name": "stdout",
     "output_type": "stream",
     "text": [
      "[8, 6, 5]\n"
     ]
    }
   ],
   "source": [
    "# 6.\tWrite a Python program to find N largest elements from a list?\n",
    "\n",
    "def find_n_largest(my_list, n):\n",
    "    my_list.sort(reverse=True)\n",
    "    return my_list[:n]\n",
    "\n",
    "my_list = [3, 2, 5, 1, 6, 8]\n",
    "n = 3\n",
    "print(find_n_largest(my_list, n))"
   ]
  },
  {
   "cell_type": "code",
   "execution_count": 7,
   "metadata": {},
   "outputs": [
    {
     "name": "stdout",
     "output_type": "stream",
     "text": [
      "2\n",
      "4\n",
      "6\n",
      "8\n",
      "10\n"
     ]
    }
   ],
   "source": [
    "# 7.\tWrite a Python program to print even numbers in a list?\n",
    "\n",
    "def print_even(my_list):\n",
    "    for num in my_list:\n",
    "        if num % 2 == 0:\n",
    "            print(num)\n",
    "\n",
    "my_list = [1, 2, 3, 4, 5, 6, 7, 8, 9, 10]\n",
    "print_even(my_list)"
   ]
  },
  {
   "cell_type": "code",
   "execution_count": 8,
   "metadata": {},
   "outputs": [
    {
     "name": "stdout",
     "output_type": "stream",
     "text": [
      "1\n",
      "3\n",
      "5\n",
      "7\n",
      "9\n"
     ]
    }
   ],
   "source": [
    "# 8.\tWrite a Python program to print odd numbers in a List?\n",
    "\n",
    "def print_odd(my_list):\n",
    "    for num in my_list:\n",
    "        if num % 2 != 0:\n",
    "            print(num)\n",
    "\n",
    "my_list = [1, 2, 3, 4, 5, 6, 7, 8, 9, 10]\n",
    "print_odd(my_list)"
   ]
  },
  {
   "cell_type": "code",
   "execution_count": 9,
   "metadata": {},
   "outputs": [
    {
     "name": "stdout",
     "output_type": "stream",
     "text": [
      "[[1, 2], [3, 4, 5], [6]]\n"
     ]
    }
   ],
   "source": [
    "# 9.\tWrite a Python program to Remove empty List from List?\n",
    "\n",
    "def remove_empty_lists(my_list):\n",
    "    return [x for x in my_list if x]\n",
    "\n",
    "my_list = [[], [1, 2], [], [3, 4, 5], [], [6]]\n",
    "print(remove_empty_lists(my_list))"
   ]
  },
  {
   "cell_type": "code",
   "execution_count": 12,
   "metadata": {},
   "outputs": [
    {
     "name": "stdout",
     "output_type": "stream",
     "text": [
      "original list:- [1, 2, 3]\n",
      "new list:- [1, 2, 3]\n"
     ]
    }
   ],
   "source": [
    "# 10.\tWrite a Python program to Cloning or Copying a list?\n",
    "\n",
    "original_list = [1, 2, 3]\n",
    "new_list = list(original_list)\n",
    "\n",
    "print(\"original list:-\",original_list)\n",
    "print(\"new list:-\",new_list)"
   ]
  },
  {
   "cell_type": "code",
   "execution_count": 13,
   "metadata": {},
   "outputs": [
    {
     "name": "stdout",
     "output_type": "stream",
     "text": [
      "3\n"
     ]
    }
   ],
   "source": [
    "# 11.\tWrite a Python program to Count occurrences of an element in a list?\n",
    "\n",
    "def count_occurrences(my_list, element):\n",
    "    return my_list.count(element)\n",
    "\n",
    "my_list = [1, 1, 2, 3, 4, 5, 1]\n",
    "element = 1\n",
    "print(count_occurrences(my_list, element))"
   ]
  },
  {
   "cell_type": "code",
   "execution_count": null,
   "metadata": {},
   "outputs": [],
   "source": []
  }
 ],
 "metadata": {
  "kernelspec": {
   "display_name": "Python 3 (ipykernel)",
   "language": "python",
   "name": "python3"
  },
  "language_info": {
   "codemirror_mode": {
    "name": "ipython",
    "version": 3
   },
   "file_extension": ".py",
   "mimetype": "text/x-python",
   "name": "python",
   "nbconvert_exporter": "python",
   "pygments_lexer": "ipython3",
   "version": "3.10.0"
  }
 },
 "nbformat": 4,
 "nbformat_minor": 2
}
