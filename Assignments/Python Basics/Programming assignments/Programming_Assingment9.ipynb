{
 "cells": [
  {
   "cell_type": "code",
   "execution_count": 1,
   "metadata": {},
   "outputs": [
    {
     "name": "stdout",
     "output_type": "stream",
     "text": [
      "True\n",
      "True\n",
      "True\n"
     ]
    }
   ],
   "source": [
    "# 1.\tWrite a Python program to check if the given number is a Disarium Number?\n",
    "\n",
    "def is_disarium(num):\n",
    "    sum = 0\n",
    "    for i in range(len(str(num))):\n",
    "        sum += int(str(num)[i])**(i+1)\n",
    "    return sum == num\n",
    "\n",
    "print(is_disarium(135))\n",
    "print(is_disarium(89))\n",
    "print(is_disarium(518))"
   ]
  },
  {
   "cell_type": "code",
   "execution_count": 2,
   "metadata": {},
   "outputs": [
    {
     "name": "stdout",
     "output_type": "stream",
     "text": [
      "1\n",
      "2\n",
      "3\n",
      "4\n",
      "5\n",
      "6\n",
      "7\n",
      "8\n",
      "9\n",
      "89\n"
     ]
    }
   ],
   "source": [
    "# 2.\tWrite a Python program to print all disarium numbers between 1 to 100?\n",
    "\n",
    "def is_disarium(num):\n",
    "    sum = 0\n",
    "    for i in range(len(str(num))):\n",
    "        sum += int(str(num)[i])**(i+1)\n",
    "    return sum == num\n",
    "\n",
    "for i in range(1,101):\n",
    "    if is_disarium(i):\n",
    "        print(i)"
   ]
  },
  {
   "cell_type": "code",
   "execution_count": 3,
   "metadata": {},
   "outputs": [
    {
     "name": "stdout",
     "output_type": "stream",
     "text": [
      "True\n",
      "True\n"
     ]
    }
   ],
   "source": [
    "# 3.\tWrite a Python program to check if the given number is Happy Number?\n",
    "\n",
    "def is_happy(num):\n",
    "    sum = 0\n",
    "    while sum != 1 and sum != 4:\n",
    "        sum = 0\n",
    "        for i in range(len(str(num))):\n",
    "            sum += int(str(num)[i])**2\n",
    "        num = sum\n",
    "    return sum == 1\n",
    "\n",
    "print(is_happy(13))\n",
    "print(is_happy(19))"
   ]
  },
  {
   "cell_type": "code",
   "execution_count": 4,
   "metadata": {},
   "outputs": [
    {
     "name": "stdout",
     "output_type": "stream",
     "text": [
      "1\n",
      "7\n",
      "10\n",
      "13\n",
      "19\n",
      "23\n",
      "28\n",
      "31\n",
      "32\n",
      "44\n",
      "49\n",
      "68\n",
      "70\n",
      "79\n",
      "82\n",
      "86\n",
      "91\n",
      "94\n",
      "97\n",
      "100\n"
     ]
    }
   ],
   "source": [
    "# 4.\tWrite a Python program to print all happy numbers between 1 and 100?\n",
    "\n",
    "def is_happy(num):\n",
    "    sum = 0\n",
    "    while sum != 1 and sum != 4:\n",
    "        sum = 0\n",
    "        for i in range(len(str(num))):\n",
    "            sum += int(str(num)[i])**2\n",
    "        num = sum\n",
    "    return sum == 1\n",
    "\n",
    "for i in range(1,101):\n",
    "    if is_happy(i):\n",
    "        print(i)\n"
   ]
  },
  {
   "cell_type": "code",
   "execution_count": 5,
   "metadata": {},
   "outputs": [
    {
     "name": "stdout",
     "output_type": "stream",
     "text": [
      "True\n",
      "True\n",
      "True\n"
     ]
    }
   ],
   "source": [
    "# 5.\tWrite a Python program to determine whether the given number is a Harshad Number?\n",
    "\n",
    "def is_harshad(num):\n",
    "    sum = 0\n",
    "    for i in range(len(str(num))):\n",
    "        sum += int(str(num)[i])\n",
    "    return num % sum == 0\n",
    "\n",
    "print(is_harshad(156))\n",
    "print(is_harshad(18))\n",
    "print(is_harshad(10))\n"
   ]
  },
  {
   "cell_type": "code",
   "execution_count": 6,
   "metadata": {},
   "outputs": [
    {
     "name": "stdout",
     "output_type": "stream",
     "text": [
      "2\n",
      "6\n",
      "12\n",
      "20\n",
      "30\n",
      "42\n",
      "56\n",
      "72\n",
      "90\n"
     ]
    }
   ],
   "source": [
    "# 6.\tWrite a Python program to print all pronic numbers between 1 and 100?\n",
    "\n",
    "def is_pronic(num):\n",
    "    for i in range(1,num+1):\n",
    "        if i*(i+1) == num:\n",
    "            return True\n",
    "    return False\n",
    "\n",
    "for i in range(1,101):\n",
    "    if is_pronic(i):\n",
    "        print(i)"
   ]
  },
  {
   "cell_type": "code",
   "execution_count": null,
   "metadata": {},
   "outputs": [],
   "source": []
  }
 ],
 "metadata": {
  "kernelspec": {
   "display_name": "Python 3 (ipykernel)",
   "language": "python",
   "name": "python3"
  },
  "language_info": {
   "codemirror_mode": {
    "name": "ipython",
    "version": 3
   },
   "file_extension": ".py",
   "mimetype": "text/x-python",
   "name": "python",
   "nbconvert_exporter": "python",
   "pygments_lexer": "ipython3",
   "version": "3.7.11"
  },
  "vscode": {
   "interpreter": {
    "hash": "137abbe3a1025327475505b0398c579d4ffc92f48265e7cd5cfe7a319d8aa47c"
   }
  }
 },
 "nbformat": 4,
 "nbformat_minor": 4
}
